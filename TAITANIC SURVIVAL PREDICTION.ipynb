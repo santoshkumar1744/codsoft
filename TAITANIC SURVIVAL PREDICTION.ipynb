{
 "cells": [
  {
   "cell_type": "markdown",
   "id": "a0be2c76",
   "metadata": {},
   "source": [
    "# <font color='red'>TAITANIC SURVIVAL PREDICTION</font>"
   ]
  },
  {
   "cell_type": "code",
   "execution_count": 249,
   "id": "e4a80deb",
   "metadata": {},
   "outputs": [],
   "source": [
    "import pandas as pd\n",
    "import numpy as np\n",
    "import matplotlib.pyplot as plt\n",
    "import seaborn as sns\n",
    "from sklearn.model_selection import train_test_split\n",
    "from sklearn.metrics import classification_report,confusion_matrix,accuracy_score\n",
    "from sklearn.preprocessing import StandardScaler\n",
    "from sklearn.tree import DecisionTreeClassifier\n",
    "import warnings\n",
    "warnings.filterwarnings('ignore') \n",
    "%matplotlib inline"
   ]
  },
  {
   "cell_type": "code",
   "execution_count": 154,
   "id": "32af62d1",
   "metadata": {
    "scrolled": true
   },
   "outputs": [
    {
     "data": {
      "text/html": [
       "<div>\n",
       "<style scoped>\n",
       "    .dataframe tbody tr th:only-of-type {\n",
       "        vertical-align: middle;\n",
       "    }\n",
       "\n",
       "    .dataframe tbody tr th {\n",
       "        vertical-align: top;\n",
       "    }\n",
       "\n",
       "    .dataframe thead th {\n",
       "        text-align: right;\n",
       "    }\n",
       "</style>\n",
       "<table border=\"1\" class=\"dataframe\">\n",
       "  <thead>\n",
       "    <tr style=\"text-align: right;\">\n",
       "      <th></th>\n",
       "      <th>PassengerId</th>\n",
       "      <th>Survived</th>\n",
       "      <th>Pclass</th>\n",
       "      <th>Name</th>\n",
       "      <th>Sex</th>\n",
       "      <th>Age</th>\n",
       "      <th>SibSp</th>\n",
       "      <th>Parch</th>\n",
       "      <th>Ticket</th>\n",
       "      <th>Fare</th>\n",
       "      <th>Cabin</th>\n",
       "      <th>Embarked</th>\n",
       "    </tr>\n",
       "  </thead>\n",
       "  <tbody>\n",
       "    <tr>\n",
       "      <th>0</th>\n",
       "      <td>892</td>\n",
       "      <td>0</td>\n",
       "      <td>3</td>\n",
       "      <td>Kelly, Mr. James</td>\n",
       "      <td>male</td>\n",
       "      <td>34.5</td>\n",
       "      <td>0</td>\n",
       "      <td>0</td>\n",
       "      <td>330911</td>\n",
       "      <td>7.8292</td>\n",
       "      <td>NaN</td>\n",
       "      <td>Q</td>\n",
       "    </tr>\n",
       "    <tr>\n",
       "      <th>1</th>\n",
       "      <td>893</td>\n",
       "      <td>1</td>\n",
       "      <td>3</td>\n",
       "      <td>Wilkes, Mrs. James (Ellen Needs)</td>\n",
       "      <td>female</td>\n",
       "      <td>47.0</td>\n",
       "      <td>1</td>\n",
       "      <td>0</td>\n",
       "      <td>363272</td>\n",
       "      <td>7.0000</td>\n",
       "      <td>NaN</td>\n",
       "      <td>S</td>\n",
       "    </tr>\n",
       "    <tr>\n",
       "      <th>2</th>\n",
       "      <td>894</td>\n",
       "      <td>0</td>\n",
       "      <td>2</td>\n",
       "      <td>Myles, Mr. Thomas Francis</td>\n",
       "      <td>male</td>\n",
       "      <td>62.0</td>\n",
       "      <td>0</td>\n",
       "      <td>0</td>\n",
       "      <td>240276</td>\n",
       "      <td>9.6875</td>\n",
       "      <td>NaN</td>\n",
       "      <td>Q</td>\n",
       "    </tr>\n",
       "    <tr>\n",
       "      <th>3</th>\n",
       "      <td>895</td>\n",
       "      <td>0</td>\n",
       "      <td>3</td>\n",
       "      <td>Wirz, Mr. Albert</td>\n",
       "      <td>male</td>\n",
       "      <td>27.0</td>\n",
       "      <td>0</td>\n",
       "      <td>0</td>\n",
       "      <td>315154</td>\n",
       "      <td>8.6625</td>\n",
       "      <td>NaN</td>\n",
       "      <td>S</td>\n",
       "    </tr>\n",
       "    <tr>\n",
       "      <th>4</th>\n",
       "      <td>896</td>\n",
       "      <td>1</td>\n",
       "      <td>3</td>\n",
       "      <td>Hirvonen, Mrs. Alexander (Helga E Lindqvist)</td>\n",
       "      <td>female</td>\n",
       "      <td>22.0</td>\n",
       "      <td>1</td>\n",
       "      <td>1</td>\n",
       "      <td>3101298</td>\n",
       "      <td>12.2875</td>\n",
       "      <td>NaN</td>\n",
       "      <td>S</td>\n",
       "    </tr>\n",
       "  </tbody>\n",
       "</table>\n",
       "</div>"
      ],
      "text/plain": [
       "   PassengerId  Survived  Pclass  \\\n",
       "0          892         0       3   \n",
       "1          893         1       3   \n",
       "2          894         0       2   \n",
       "3          895         0       3   \n",
       "4          896         1       3   \n",
       "\n",
       "                                           Name     Sex   Age  SibSp  Parch  \\\n",
       "0                              Kelly, Mr. James    male  34.5      0      0   \n",
       "1              Wilkes, Mrs. James (Ellen Needs)  female  47.0      1      0   \n",
       "2                     Myles, Mr. Thomas Francis    male  62.0      0      0   \n",
       "3                              Wirz, Mr. Albert    male  27.0      0      0   \n",
       "4  Hirvonen, Mrs. Alexander (Helga E Lindqvist)  female  22.0      1      1   \n",
       "\n",
       "    Ticket     Fare Cabin Embarked  \n",
       "0   330911   7.8292   NaN        Q  \n",
       "1   363272   7.0000   NaN        S  \n",
       "2   240276   9.6875   NaN        Q  \n",
       "3   315154   8.6625   NaN        S  \n",
       "4  3101298  12.2875   NaN        S  "
      ]
     },
     "execution_count": 154,
     "metadata": {},
     "output_type": "execute_result"
    }
   ],
   "source": [
    "taitanic_data=pd.read_csv(\"D:\\\\MACHINE LAERNING\\\\codsoft\\\\tested.csv\")\n",
    "taitanic_data.head()"
   ]
  },
  {
   "cell_type": "code",
   "execution_count": 255,
   "id": "e56fbece",
   "metadata": {},
   "outputs": [],
   "source": [
    "#sibp =no fo children/spouse    spouse=partner\n",
    "#parch=the no of parent or children had an abord\n",
    "#embarked=port of Embarktion C=Cherbourg,S=Southampton,Q=Queenstown\n",
    "#pclass=Ticket Class 1st=Upper,2nd=Middle,3rd=Lower"
   ]
  },
  {
   "cell_type": "code",
   "execution_count": 155,
   "id": "0464b9d0",
   "metadata": {},
   "outputs": [
    {
     "name": "stdout",
     "output_type": "stream",
     "text": [
      "<class 'pandas.core.frame.DataFrame'>\n",
      "RangeIndex: 418 entries, 0 to 417\n",
      "Data columns (total 12 columns):\n",
      " #   Column       Non-Null Count  Dtype  \n",
      "---  ------       --------------  -----  \n",
      " 0   PassengerId  418 non-null    int64  \n",
      " 1   Survived     418 non-null    int64  \n",
      " 2   Pclass       418 non-null    int64  \n",
      " 3   Name         418 non-null    object \n",
      " 4   Sex          418 non-null    object \n",
      " 5   Age          332 non-null    float64\n",
      " 6   SibSp        418 non-null    int64  \n",
      " 7   Parch        418 non-null    int64  \n",
      " 8   Ticket       418 non-null    object \n",
      " 9   Fare         417 non-null    float64\n",
      " 10  Cabin        91 non-null     object \n",
      " 11  Embarked     418 non-null    object \n",
      "dtypes: float64(2), int64(5), object(5)\n",
      "memory usage: 39.3+ KB\n"
     ]
    }
   ],
   "source": [
    "taitanic_data.info()"
   ]
  },
  {
   "cell_type": "code",
   "execution_count": 156,
   "id": "a5c9f9e3",
   "metadata": {},
   "outputs": [
    {
     "data": {
      "text/plain": [
       "PassengerId      0\n",
       "Survived         0\n",
       "Pclass           0\n",
       "Name             0\n",
       "Sex              0\n",
       "Age             86\n",
       "SibSp            0\n",
       "Parch            0\n",
       "Ticket           0\n",
       "Fare             1\n",
       "Cabin          327\n",
       "Embarked         0\n",
       "dtype: int64"
      ]
     },
     "execution_count": 156,
     "metadata": {},
     "output_type": "execute_result"
    }
   ],
   "source": [
    "taitanic_data.isnull().sum()"
   ]
  },
  {
   "cell_type": "code",
   "execution_count": 157,
   "id": "eca65322",
   "metadata": {},
   "outputs": [
    {
     "name": "stdout",
     "output_type": "stream",
     "text": [
      "30.272590361445783 14.18120923562442\n"
     ]
    }
   ],
   "source": [
    "mean=taitanic_data['Age'].mean()\n",
    "std=taitanic_data['Age'].std()\n",
    "#No of null values 86\n",
    "print(mean,std)"
   ]
  },
  {
   "cell_type": "code",
   "execution_count": 158,
   "id": "38938c1d",
   "metadata": {},
   "outputs": [
    {
     "data": {
      "text/plain": [
       "array([16, 36, 24, 35, 18, 29, 39, 33, 27, 26, 39, 36, 35, 38, 26, 32, 42,\n",
       "       22, 39, 32, 39, 35, 37, 26, 19, 24, 41, 27, 25, 41, 20, 21, 25, 40,\n",
       "       42, 21, 28, 34, 23, 40, 33, 22, 29, 20, 34, 43, 39, 29, 17, 42, 43,\n",
       "       41, 24, 43, 21, 19, 42, 32, 32, 41, 23, 42, 18, 38, 38, 37, 18, 23,\n",
       "       16, 42, 39, 23, 40, 21, 42, 41, 18, 43, 20, 17, 42, 16, 30, 26, 24,\n",
       "       21])"
      ]
     },
     "execution_count": 158,
     "metadata": {},
     "output_type": "execute_result"
    }
   ],
   "source": [
    "a=np.random.randint(mean-std,mean+std,86)\n",
    "a"
   ]
  },
  {
   "cell_type": "code",
   "execution_count": 159,
   "id": "3594ca61",
   "metadata": {},
   "outputs": [],
   "source": [
    "for i in a:\n",
    "    for NaN in taitanic_data['Age']:\n",
    "        taitanic_data['Age'].fillna(i,inplace=True)"
   ]
  },
  {
   "cell_type": "code",
   "execution_count": 160,
   "id": "a3ee9b7e",
   "metadata": {},
   "outputs": [
    {
     "data": {
      "text/plain": [
       "PassengerId      0\n",
       "Survived         0\n",
       "Pclass           0\n",
       "Name             0\n",
       "Sex              0\n",
       "Age              0\n",
       "SibSp            0\n",
       "Parch            0\n",
       "Ticket           0\n",
       "Fare             1\n",
       "Cabin          327\n",
       "Embarked         0\n",
       "dtype: int64"
      ]
     },
     "execution_count": 160,
     "metadata": {},
     "output_type": "execute_result"
    }
   ],
   "source": [
    "taitanic_data.isnull().sum()"
   ]
  },
  {
   "cell_type": "code",
   "execution_count": 256,
   "id": "43180515",
   "metadata": {},
   "outputs": [
    {
     "data": {
      "text/html": [
       "<div>\n",
       "<style scoped>\n",
       "    .dataframe tbody tr th:only-of-type {\n",
       "        vertical-align: middle;\n",
       "    }\n",
       "\n",
       "    .dataframe tbody tr th {\n",
       "        vertical-align: top;\n",
       "    }\n",
       "\n",
       "    .dataframe thead th {\n",
       "        text-align: right;\n",
       "    }\n",
       "</style>\n",
       "<table border=\"1\" class=\"dataframe\">\n",
       "  <thead>\n",
       "    <tr style=\"text-align: right;\">\n",
       "      <th></th>\n",
       "      <th>Survived</th>\n",
       "      <th>Pclass</th>\n",
       "      <th>Age</th>\n",
       "      <th>SibSp</th>\n",
       "      <th>Parch</th>\n",
       "      <th>Fare</th>\n",
       "    </tr>\n",
       "  </thead>\n",
       "  <tbody>\n",
       "    <tr>\n",
       "      <th>count</th>\n",
       "      <td>417.000000</td>\n",
       "      <td>417.000000</td>\n",
       "      <td>417.000000</td>\n",
       "      <td>417.000000</td>\n",
       "      <td>417.000000</td>\n",
       "      <td>417.000000</td>\n",
       "    </tr>\n",
       "    <tr>\n",
       "      <th>mean</th>\n",
       "      <td>0.364508</td>\n",
       "      <td>2.263789</td>\n",
       "      <td>27.256595</td>\n",
       "      <td>0.448441</td>\n",
       "      <td>0.393285</td>\n",
       "      <td>35.627188</td>\n",
       "    </tr>\n",
       "    <tr>\n",
       "      <th>std</th>\n",
       "      <td>0.481870</td>\n",
       "      <td>0.842077</td>\n",
       "      <td>13.813514</td>\n",
       "      <td>0.897568</td>\n",
       "      <td>0.982419</td>\n",
       "      <td>55.907576</td>\n",
       "    </tr>\n",
       "    <tr>\n",
       "      <th>min</th>\n",
       "      <td>0.000000</td>\n",
       "      <td>1.000000</td>\n",
       "      <td>0.170000</td>\n",
       "      <td>0.000000</td>\n",
       "      <td>0.000000</td>\n",
       "      <td>0.000000</td>\n",
       "    </tr>\n",
       "    <tr>\n",
       "      <th>25%</th>\n",
       "      <td>0.000000</td>\n",
       "      <td>1.000000</td>\n",
       "      <td>16.000000</td>\n",
       "      <td>0.000000</td>\n",
       "      <td>0.000000</td>\n",
       "      <td>7.895800</td>\n",
       "    </tr>\n",
       "    <tr>\n",
       "      <th>50%</th>\n",
       "      <td>0.000000</td>\n",
       "      <td>3.000000</td>\n",
       "      <td>24.000000</td>\n",
       "      <td>0.000000</td>\n",
       "      <td>0.000000</td>\n",
       "      <td>14.454200</td>\n",
       "    </tr>\n",
       "    <tr>\n",
       "      <th>75%</th>\n",
       "      <td>1.000000</td>\n",
       "      <td>3.000000</td>\n",
       "      <td>35.000000</td>\n",
       "      <td>1.000000</td>\n",
       "      <td>0.000000</td>\n",
       "      <td>31.500000</td>\n",
       "    </tr>\n",
       "    <tr>\n",
       "      <th>max</th>\n",
       "      <td>1.000000</td>\n",
       "      <td>3.000000</td>\n",
       "      <td>76.000000</td>\n",
       "      <td>8.000000</td>\n",
       "      <td>9.000000</td>\n",
       "      <td>512.329200</td>\n",
       "    </tr>\n",
       "  </tbody>\n",
       "</table>\n",
       "</div>"
      ],
      "text/plain": [
       "         Survived      Pclass         Age       SibSp       Parch        Fare\n",
       "count  417.000000  417.000000  417.000000  417.000000  417.000000  417.000000\n",
       "mean     0.364508    2.263789   27.256595    0.448441    0.393285   35.627188\n",
       "std      0.481870    0.842077   13.813514    0.897568    0.982419   55.907576\n",
       "min      0.000000    1.000000    0.170000    0.000000    0.000000    0.000000\n",
       "25%      0.000000    1.000000   16.000000    0.000000    0.000000    7.895800\n",
       "50%      0.000000    3.000000   24.000000    0.000000    0.000000   14.454200\n",
       "75%      1.000000    3.000000   35.000000    1.000000    0.000000   31.500000\n",
       "max      1.000000    3.000000   76.000000    8.000000    9.000000  512.329200"
      ]
     },
     "execution_count": 256,
     "metadata": {},
     "output_type": "execute_result"
    }
   ],
   "source": [
    "taitanic_data.describe()"
   ]
  },
  {
   "cell_type": "code",
   "execution_count": 250,
   "id": "2afabe76",
   "metadata": {},
   "outputs": [
    {
     "data": {
      "image/png": "[encoded data removed]",
      "text/plain": [
       "<Figure size 600x300 with 2 Axes>"
      ]
     },
     "metadata": {},
     "output_type": "display_data"
    }
   ],
   "source": [
    "#data visuvalisation and understanding the data\n",
    "#AGE\n",
    "a=sns.FacetGrid(data=taitanic_data,col='Survived')\n",
    "a.map(sns.distplot,'Age')\n",
    "plt.show()"
   ]
  },
  {
   "cell_type": "code",
   "execution_count": 225,
   "id": "93017c2e",
   "metadata": {},
   "outputs": [
    {
     "data": {
      "image/png": "[encoded data removed]",
      "text/plain": [
       "<Figure size 800x400 with 1 Axes>"
      ]
     },
     "metadata": {},
     "output_type": "display_data"
    }
   ],
   "source": [
    "#SEX\n",
    "sns.barplot(data=taitanic_data,x='Sex',y='Survived',ci=None)\n",
    "plt.show()"
   ]
  },
  {
   "cell_type": "code",
   "execution_count": 226,
   "id": "a7784384",
   "metadata": {},
   "outputs": [
    {
     "data": {
      "text/plain": [
       "<AxesSubplot:xlabel='Pclass', ylabel='Survived'>"
      ]
     },
     "execution_count": 226,
     "metadata": {},
     "output_type": "execute_result"
    },
    {
     "data": {
      "image/png": "[encoded data removed]",
      "text/plain": [
       "<Figure size 800x400 with 1 Axes>"
      ]
     },
     "metadata": {},
     "output_type": "display_data"
    }
   ],
   "source": [
    "##PCLASS\n",
    "sns.barplot(data=taitanic_data,x='Pclass',y='Survived')"
   ]
  },
  {
   "cell_type": "code",
   "execution_count": 253,
   "id": "41843e93",
   "metadata": {},
   "outputs": [
    {
     "data": {
      "text/plain": [
       "<seaborn.axisgrid.FacetGrid at 0x24833134d00>"
      ]
     },
     "execution_count": 253,
     "metadata": {},
     "output_type": "execute_result"
    },
    {
     "data": {
      "image/png": "[encoded data removed]",
      "text/plain": [
       "<Figure size 1500x500 with 3 Axes>"
      ]
     },
     "metadata": {},
     "output_type": "display_data"
    }
   ],
   "source": [
    "#SIBSP\n",
    "sns.factorplot(data=taitanic_data,x='SibSp',y='Survived',kind='bar',col='Pclass')"
   ]
  },
  {
   "cell_type": "code",
   "execution_count": 254,
   "id": "e72d656b",
   "metadata": {},
   "outputs": [
    {
     "data": {
      "text/plain": [
       "<seaborn.axisgrid.FacetGrid at 0x24833179490>"
      ]
     },
     "execution_count": 254,
     "metadata": {},
     "output_type": "execute_result"
    },
    {
     "data": {
      "image/png": "[encoded data removed]",
      "text/plain": [
       "<Figure size 2100x700 with 3 Axes>"
      ]
     },
     "metadata": {},
     "output_type": "display_data"
    }
   ],
   "source": [
    "#PARCH\n",
    "\n",
    "sns.catplot(data=taitanic_data,x='Parch',y='Survived',kind='bar',size=7,col='Embarked',palette='plasma_r')\n",
    "#sns.set(rc={'figure.figsize':(3,8)})"
   ]
  },
  {
   "cell_type": "code",
   "execution_count": 168,
   "id": "a2bada8b",
   "metadata": {},
   "outputs": [
    {
     "data": {
      "text/plain": [
       "<AxesSubplot:>"
      ]
     },
     "execution_count": 168,
     "metadata": {},
     "output_type": "execute_result"
    },
    {
     "data": {
      "image/png": "[encoded data removed]",
      "text/plain": [
       "<Figure size 1500x600 with 2 Axes>"
      ]
     },
     "metadata": {},
     "output_type": "display_data"
    }
   ],
   "source": [
    "ax=plt.figure(figsize=(15,6))\n",
    "sns.set(rc={\"figure.figsize\":(8, 4)})\n",
    "sns.heatmap(taitanic_data[['Age','Survived','Fare','SibSp','Parch','Pclass']].corr(),annot=True)\n"
   ]
  },
  {
   "cell_type": "code",
   "execution_count": 170,
   "id": "cc8adf6f",
   "metadata": {},
   "outputs": [],
   "source": [
    "taitanic_data=taitanic_data.drop(['PassengerId','Name','Ticket','Cabin'],axis=1)\n",
    "taitanic_data=taitanic_data.dropna()"
   ]
  },
  {
   "cell_type": "code",
   "execution_count": 188,
   "id": "8e2ff6d4",
   "metadata": {},
   "outputs": [],
   "source": [
    "sex=pd.get_dummies(taitanic_data['Sex'],drop_first=True)\n",
    "embarked=pd.get_dummies(taitanic_data['Embarked'],drop_first=True)"
   ]
  },
  {
   "cell_type": "code",
   "execution_count": 189,
   "id": "257ee6e5",
   "metadata": {},
   "outputs": [],
   "source": [
    "data=pd.concat([taitanic_data,sex,embarked],axis=1)\n",
    "data.drop(['Sex','Embarked'],inplace=True,axis=1)\n",
    "#female=0\n",
    "#emabrked=c =(q,s)=(0,0)"
   ]
  },
  {
   "cell_type": "code",
   "execution_count": 198,
   "id": "132dde52",
   "metadata": {},
   "outputs": [
    {
     "data": {
      "text/plain": [
       "(417, 9)"
      ]
     },
     "execution_count": 198,
     "metadata": {},
     "output_type": "execute_result"
    }
   ],
   "source": [
    "data.head()\n",
    "data.shape"
   ]
  },
  {
   "cell_type": "code",
   "execution_count": 202,
   "id": "e76d6d0c",
   "metadata": {},
   "outputs": [],
   "source": [
    "x=np.array(data.iloc[ :,1:])\n",
    "y=np.array(data.iloc[: ,0])"
   ]
  },
  {
   "cell_type": "code",
   "execution_count": 203,
   "id": "00f2d0ee",
   "metadata": {},
   "outputs": [
    {
     "data": {
      "text/plain": [
       "((417, 8), (417,))"
      ]
     },
     "execution_count": 203,
     "metadata": {},
     "output_type": "execute_result"
    }
   ],
   "source": [
    "x.shape,y.shape"
   ]
  },
  {
   "cell_type": "code",
   "execution_count": 239,
   "id": "4dc8f082",
   "metadata": {},
   "outputs": [
    {
     "data": {
      "text/plain": [
       "((333, 8), (84, 8), (333,), (84,))"
      ]
     },
     "execution_count": 239,
     "metadata": {},
     "output_type": "execute_result"
    }
   ],
   "source": [
    "x_train,x_test,y_train,y_test=train_test_split(x,y,test_size=0.20,random_state=43)\n",
    "x_train.shape,x_test.shape,y_train.shape,y_test.shape"
   ]
  },
  {
   "cell_type": "code",
   "execution_count": 240,
   "id": "1907a23c",
   "metadata": {},
   "outputs": [],
   "source": [
    "scaler=StandardScaler()\n",
    "x_train_scaled=scaler.fit_transform(x_train)\n",
    "x_test_scaled=scaler.transform(x_test)"
   ]
  },
  {
   "cell_type": "code",
   "execution_count": 241,
   "id": "4b4126a7",
   "metadata": {},
   "outputs": [],
   "source": [
    "model=DecisionTreeClassifier()\n",
    "model.fit(x_train_scaled,y_train)\n",
    "train_predc=model.predict(x_train_scaled)\n",
    "test_predc=model.predict(x_test_scaled)"
   ]
  },
  {
   "cell_type": "code",
   "execution_count": 242,
   "id": "5df1b501",
   "metadata": {},
   "outputs": [],
   "source": [
    "score_train=accuracy_score(y_train,train_predc)\n",
    "score_test=accuracy_score(y_test,test_predc)\n",
    "confussion_mat_train=confusion_matrix(y_train,train_predc)\n",
    "confussion_mat_test=confusion_matrix(y_test,test_predc)\n",
    "classification_report_train=classification_report(y_train,train_predc)\n",
    "classification_report_test=classification_report(y_test,test_predc)"
   ]
  },
  {
   "cell_type": "code",
   "execution_count": 243,
   "id": "5d96f103",
   "metadata": {},
   "outputs": [
    {
     "name": "stdout",
     "output_type": "stream",
     "text": [
      "THE TRAINING RESULT\n",
      "THE ACCURACY_SCORE=1.0\n",
      "THE CONFUSSION_MATRIX=[[200   0]\n",
      " [  0 133]]\n",
      "CLASSIFICATION_REPORT=              precision    recall  f1-score   support\n",
      "\n",
      "           0       1.00      1.00      1.00       200\n",
      "           1       1.00      1.00      1.00       133\n",
      "\n",
      "    accuracy                           1.00       333\n",
      "   macro avg       1.00      1.00      1.00       333\n",
      "weighted avg       1.00      1.00      1.00       333\n",
      "\n",
      "\n",
      "\n",
      "\n",
      "THE TEST RESULT\n",
      "THE ACCURACY_SCORE=1.0\n",
      "THE CONFUSSION_MATRIX=[[65  0]\n",
      " [ 0 19]]\n",
      "CLASSIFICATION_REPORT=              precision    recall  f1-score   support\n",
      "\n",
      "           0       1.00      1.00      1.00        65\n",
      "           1       1.00      1.00      1.00        19\n",
      "\n",
      "    accuracy                           1.00        84\n",
      "   macro avg       1.00      1.00      1.00        84\n",
      "weighted avg       1.00      1.00      1.00        84\n",
      "\n"
     ]
    }
   ],
   "source": [
    "print(\"THE TRAINING RESULT\")\n",
    "print(f'THE ACCURACY_SCORE={score_train}')\n",
    "print(f'THE CONFUSSION_MATRIX={confussion_mat_train}')\n",
    "print(f'CLASSIFICATION_REPORT={classification_report_train}')\n",
    "print('\\n\\n')\n",
    "print(\"THE TEST RESULT\")\n",
    "print(f'THE ACCURACY_SCORE={score_test}')\n",
    "print(f'THE CONFUSSION_MATRIX={confussion_mat_test}')\n",
    "print(f'CLASSIFICATION_REPORT={classification_report_test}')"
   ]
  },
  {
   "cell_type": "code",
   "execution_count": 247,
   "id": "eee2d526",
   "metadata": {},
   "outputs": [
    {
     "data": {
      "text/html": [
       "<div>\n",
       "<style scoped>\n",
       "    .dataframe tbody tr th:only-of-type {\n",
       "        vertical-align: middle;\n",
       "    }\n",
       "\n",
       "    .dataframe tbody tr th {\n",
       "        vertical-align: top;\n",
       "    }\n",
       "\n",
       "    .dataframe thead th {\n",
       "        text-align: right;\n",
       "    }\n",
       "</style>\n",
       "<table border=\"1\" class=\"dataframe\">\n",
       "  <thead>\n",
       "    <tr style=\"text-align: right;\">\n",
       "      <th></th>\n",
       "      <th>0</th>\n",
       "      <th>0</th>\n",
       "    </tr>\n",
       "  </thead>\n",
       "  <tbody>\n",
       "    <tr>\n",
       "      <th>0</th>\n",
       "      <td>1</td>\n",
       "      <td>1</td>\n",
       "    </tr>\n",
       "    <tr>\n",
       "      <th>1</th>\n",
       "      <td>0</td>\n",
       "      <td>0</td>\n",
       "    </tr>\n",
       "    <tr>\n",
       "      <th>2</th>\n",
       "      <td>0</td>\n",
       "      <td>0</td>\n",
       "    </tr>\n",
       "    <tr>\n",
       "      <th>3</th>\n",
       "      <td>1</td>\n",
       "      <td>1</td>\n",
       "    </tr>\n",
       "    <tr>\n",
       "      <th>4</th>\n",
       "      <td>0</td>\n",
       "      <td>0</td>\n",
       "    </tr>\n",
       "  </tbody>\n",
       "</table>\n",
       "</div>"
      ],
      "text/plain": [
       "   0  0\n",
       "0  1  1\n",
       "1  0  0\n",
       "2  0  0\n",
       "3  1  1\n",
       "4  0  0"
      ]
     },
     "execution_count": 247,
     "metadata": {},
     "output_type": "execute_result"
    }
   ],
   "source": [
    "prediction=pd.DataFrame(train_predc)\n",
    "orginal=pd.DataFrame(y_train)\n",
    "train_output=pd.concat([orginal,prediction],axis=1)\n",
    "train_output.head()"
   ]
  },
  {
   "cell_type": "code",
   "execution_count": 248,
   "id": "ce8e78be",
   "metadata": {},
   "outputs": [
    {
     "data": {
      "text/html": [
       "<div>\n",
       "<style scoped>\n",
       "    .dataframe tbody tr th:only-of-type {\n",
       "        vertical-align: middle;\n",
       "    }\n",
       "\n",
       "    .dataframe tbody tr th {\n",
       "        vertical-align: top;\n",
       "    }\n",
       "\n",
       "    .dataframe thead th {\n",
       "        text-align: right;\n",
       "    }\n",
       "</style>\n",
       "<table border=\"1\" class=\"dataframe\">\n",
       "  <thead>\n",
       "    <tr style=\"text-align: right;\">\n",
       "      <th></th>\n",
       "      <th>0</th>\n",
       "      <th>0</th>\n",
       "    </tr>\n",
       "  </thead>\n",
       "  <tbody>\n",
       "    <tr>\n",
       "      <th>0</th>\n",
       "      <td>1</td>\n",
       "      <td>1</td>\n",
       "    </tr>\n",
       "    <tr>\n",
       "      <th>1</th>\n",
       "      <td>0</td>\n",
       "      <td>0</td>\n",
       "    </tr>\n",
       "    <tr>\n",
       "      <th>2</th>\n",
       "      <td>0</td>\n",
       "      <td>0</td>\n",
       "    </tr>\n",
       "    <tr>\n",
       "      <th>3</th>\n",
       "      <td>0</td>\n",
       "      <td>0</td>\n",
       "    </tr>\n",
       "    <tr>\n",
       "      <th>4</th>\n",
       "      <td>1</td>\n",
       "      <td>1</td>\n",
       "    </tr>\n",
       "  </tbody>\n",
       "</table>\n",
       "</div>"
      ],
      "text/plain": [
       "   0  0\n",
       "0  1  1\n",
       "1  0  0\n",
       "2  0  0\n",
       "3  0  0\n",
       "4  1  1"
      ]
     },
     "execution_count": 248,
     "metadata": {},
     "output_type": "execute_result"
    }
   ],
   "source": [
    "prediction_test=pd.DataFrame(test_predc)\n",
    "orginal_test=pd.DataFrame(y_test)\n",
    "test_output=pd.concat([orginal_test,prediction_test],axis=1)\n",
    "test_output.head()"
   ]
  },
  {
   "cell_type": "code",
   "execution_count": null,
   "id": "31c310cf",
   "metadata": {},
   "outputs": [],
   "source": []
  }
 ],
 "metadata": {
  "kernelspec": {
   "display_name": "Python 3 (ipykernel)",
   "language": "python",
   "name": "python3"
  },
  "language_info": {
   "codemirror_mode": {
    "name": "ipython",
    "version": 3
   },
   "file_extension": ".py",
   "mimetype": "text/x-python",
   "name": "python",
   "nbconvert_exporter": "python",
   "pygments_lexer": "ipython3",
   "version": "3.9.18"
  }
 },
 "nbformat": 4,
 "nbformat_minor": 5
}
